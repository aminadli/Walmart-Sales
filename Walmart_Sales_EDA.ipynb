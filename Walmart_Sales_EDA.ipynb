{
  "nbformat": 4,
  "nbformat_minor": 0,
  "metadata": {
    "colab": {
      "provenance": [],
      "authorship_tag": "ABX9TyO+GR9048WCyzCOH+KRYIwS",
      "include_colab_link": true
    },
    "kernelspec": {
      "name": "python3",
      "display_name": "Python 3"
    },
    "language_info": {
      "name": "python"
    }
  },
  "cells": [
    {
      "cell_type": "markdown",
      "metadata": {
        "id": "view-in-github",
        "colab_type": "text"
      },
      "source": [
        "<a href=\"https://colab.research.google.com/github/aminadli/Walmart-Sales/blob/main/Walmart_Sales_EDA.ipynb\" target=\"_parent\"><img src=\"https://colab.research.google.com/assets/colab-badge.svg\" alt=\"Open In Colab\"/></a>"
      ]
    },
    {
      "cell_type": "code",
      "source": [
        "import pandas as pd\n",
        "import numpy as np\n",
        "import matplotlib.pyplot as plt\n",
        "import seaborn as sns\n",
        "import plotly.express as px\n",
        "import plotly.graph_objects as go"
      ],
      "metadata": {
        "execution": {
          "iopub.status.busy": "2024-02-18T14:30:06.683286Z",
          "iopub.execute_input": "2024-02-18T14:30:06.683739Z",
          "iopub.status.idle": "2024-02-18T14:30:06.690471Z",
          "shell.execute_reply.started": "2024-02-18T14:30:06.683706Z",
          "shell.execute_reply": "2024-02-18T14:30:06.689367Z"
        },
        "trusted": true,
        "id": "23JY1aG54uM5"
      },
      "execution_count": 1,
      "outputs": []
    },
    {
      "cell_type": "code",
      "source": [
        "df=pd.read_csv('https://raw.githubusercontent.com/aminadli/Walmart-Sales/main/Walmart_sales.csv')\n",
        "df"
      ],
      "metadata": {
        "execution": {
          "iopub.status.busy": "2024-02-18T14:30:14.063949Z",
          "iopub.execute_input": "2024-02-18T14:30:14.064879Z",
          "iopub.status.idle": "2024-02-18T14:30:14.101294Z",
          "shell.execute_reply.started": "2024-02-18T14:30:14.064837Z",
          "shell.execute_reply": "2024-02-18T14:30:14.100358Z"
        },
        "trusted": true,
        "id": "4aXTeGtB4uM6"
      },
      "execution_count": null,
      "outputs": []
    },
    {
      "cell_type": "code",
      "source": [
        "df.info()"
      ],
      "metadata": {
        "execution": {
          "iopub.status.busy": "2024-02-18T14:30:14.956774Z",
          "iopub.execute_input": "2024-02-18T14:30:14.957193Z",
          "iopub.status.idle": "2024-02-18T14:30:14.973779Z",
          "shell.execute_reply.started": "2024-02-18T14:30:14.957154Z",
          "shell.execute_reply": "2024-02-18T14:30:14.972093Z"
        },
        "trusted": true,
        "id": "XFaHucbE4uM6"
      },
      "execution_count": null,
      "outputs": []
    },
    {
      "cell_type": "code",
      "source": [
        "df.describe()"
      ],
      "metadata": {
        "execution": {
          "iopub.status.busy": "2024-02-18T14:30:15.86166Z",
          "iopub.execute_input": "2024-02-18T14:30:15.862631Z",
          "iopub.status.idle": "2024-02-18T14:30:15.900636Z",
          "shell.execute_reply.started": "2024-02-18T14:30:15.86258Z",
          "shell.execute_reply": "2024-02-18T14:30:15.899346Z"
        },
        "trusted": true,
        "id": "qInbeD7v4uM6"
      },
      "execution_count": null,
      "outputs": []
    },
    {
      "cell_type": "code",
      "source": [
        "df.isnull().sum()"
      ],
      "metadata": {
        "execution": {
          "iopub.status.busy": "2024-02-18T14:30:16.802339Z",
          "iopub.execute_input": "2024-02-18T14:30:16.803769Z",
          "iopub.status.idle": "2024-02-18T14:30:16.814839Z",
          "shell.execute_reply.started": "2024-02-18T14:30:16.803724Z",
          "shell.execute_reply": "2024-02-18T14:30:16.813275Z"
        },
        "trusted": true,
        "id": "XFfrpv9l4uM7"
      },
      "execution_count": null,
      "outputs": []
    },
    {
      "cell_type": "code",
      "source": [
        "df.duplicated().sum()"
      ],
      "metadata": {
        "execution": {
          "iopub.status.busy": "2024-02-18T14:30:17.720167Z",
          "iopub.execute_input": "2024-02-18T14:30:17.721318Z",
          "iopub.status.idle": "2024-02-18T14:30:17.732935Z",
          "shell.execute_reply.started": "2024-02-18T14:30:17.721283Z",
          "shell.execute_reply": "2024-02-18T14:30:17.731478Z"
        },
        "trusted": true,
        "id": "ia4AOQMZ4uM7"
      },
      "execution_count": null,
      "outputs": []
    },
    {
      "cell_type": "code",
      "source": [
        "df.Store.value_counts()"
      ],
      "metadata": {
        "execution": {
          "iopub.status.busy": "2024-02-18T14:30:18.599161Z",
          "iopub.execute_input": "2024-02-18T14:30:18.599554Z",
          "iopub.status.idle": "2024-02-18T14:30:18.611583Z",
          "shell.execute_reply.started": "2024-02-18T14:30:18.599526Z",
          "shell.execute_reply": "2024-02-18T14:30:18.610218Z"
        },
        "trusted": true,
        "id": "cYnK3Ji94uM7"
      },
      "execution_count": null,
      "outputs": []
    },
    {
      "cell_type": "markdown",
      "source": [
        "The provided data is cleaned and uniformly distributed across these all Stores"
      ],
      "metadata": {
        "id": "XoNZi_F94uM8"
      }
    },
    {
      "cell_type": "code",
      "source": [
        "df['Date'] = pd.to_datetime(df['Date'], format='%d-%m-%Y')\n",
        "df"
      ],
      "metadata": {
        "execution": {
          "iopub.status.busy": "2024-02-18T14:30:21.920511Z",
          "iopub.execute_input": "2024-02-18T14:30:21.920922Z",
          "iopub.status.idle": "2024-02-18T14:30:21.952326Z",
          "shell.execute_reply.started": "2024-02-18T14:30:21.920891Z",
          "shell.execute_reply": "2024-02-18T14:30:21.951319Z"
        },
        "trusted": true,
        "id": "EO-ZbFAp4uM9"
      },
      "execution_count": null,
      "outputs": []
    },
    {
      "cell_type": "code",
      "source": [
        "df['year']=df['Date'].dt.year\n",
        "df['month']=df['Date'].dt.month\n",
        "df['day']=df['Date'].dt.day"
      ],
      "metadata": {
        "execution": {
          "iopub.status.busy": "2024-02-18T14:30:22.911058Z",
          "iopub.execute_input": "2024-02-18T14:30:22.911573Z",
          "iopub.status.idle": "2024-02-18T14:30:22.924233Z",
          "shell.execute_reply.started": "2024-02-18T14:30:22.911536Z",
          "shell.execute_reply": "2024-02-18T14:30:22.922919Z"
        },
        "trusted": true,
        "id": "9UkhJm_34uM9"
      },
      "execution_count": null,
      "outputs": []
    },
    {
      "cell_type": "code",
      "source": [
        "df"
      ],
      "metadata": {
        "execution": {
          "iopub.status.busy": "2024-02-18T14:30:24.024455Z",
          "iopub.execute_input": "2024-02-18T14:30:24.02485Z",
          "iopub.status.idle": "2024-02-18T14:30:24.049333Z",
          "shell.execute_reply.started": "2024-02-18T14:30:24.02482Z",
          "shell.execute_reply": "2024-02-18T14:30:24.048474Z"
        },
        "trusted": true,
        "id": "FsLKYhmP4uM9"
      },
      "execution_count": null,
      "outputs": []
    },
    {
      "cell_type": "code",
      "source": [
        "import warnings\n",
        "warnings.simplefilter(action='ignore', category=FutureWarning)\n",
        "\n",
        "fig = px.line(df, x=\"Date\", y=\"Weekly_Sales\", color='Store',title=\"Weekly Sales of All Stores Over Time\")\n",
        "fig.show(render='iframe')"
      ],
      "metadata": {
        "scrolled": true,
        "execution": {
          "iopub.status.busy": "2024-02-18T14:35:25.668613Z",
          "iopub.execute_input": "2024-02-18T14:35:25.669011Z",
          "iopub.status.idle": "2024-02-18T14:35:26.669844Z",
          "shell.execute_reply.started": "2024-02-18T14:35:25.668982Z",
          "shell.execute_reply": "2024-02-18T14:35:26.668629Z"
        },
        "trusted": true,
        "id": "HavQ6iOC4uM-"
      },
      "execution_count": null,
      "outputs": []
    },
    {
      "cell_type": "markdown",
      "source": [
        "#### Observation-\n",
        "There are certain days in a year when sales are exceptionally high, often occurring in the last week of December, which coincides with Christmas. This period typically sees a significant surge in sales."
      ],
      "metadata": {
        "id": "fS4fY0dT4uM-"
      }
    },
    {
      "cell_type": "code",
      "source": [
        "import warnings\n",
        "warnings.simplefilter(action='ignore', category=FutureWarning)\n",
        "\n",
        "fig,axes=plt.subplots(nrows=12 ,ncols=4,figsize=(30,100))\n",
        "for i in range(0,45):\n",
        "    temp_df=df[df['Store']==i][['Date','Weekly_Sales']]\n",
        "    row=i//4\n",
        "    col=i%4\n",
        "    sns.lineplot(df[df['Store']==i+1][['Date','Weekly_Sales']],x='Date',y='Weekly_Sales',ax=axes[row,col])\n",
        "    axes[row,col].set_title(i+1)\n"
      ],
      "metadata": {
        "execution": {
          "iopub.status.busy": "2024-02-18T14:33:10.594501Z",
          "iopub.execute_input": "2024-02-18T14:33:10.595051Z",
          "iopub.status.idle": "2024-02-18T14:33:31.491646Z",
          "shell.execute_reply.started": "2024-02-18T14:33:10.595011Z",
          "shell.execute_reply": "2024-02-18T14:33:31.48965Z"
        },
        "trusted": true,
        "id": "MJjQJA3v4uM-"
      },
      "execution_count": null,
      "outputs": []
    },
    {
      "cell_type": "markdown",
      "source": [
        "#### Observation:\n",
        "The sales patterns across most stores are quite consistent, with notable exceptions. Stores such as #28, #33, #36, #38 #42, and #43 display significant fluctuations in their sales figures. Store #36 demonstrates a consistent decline in sales over time, while store #38 shows a continual increase."
      ],
      "metadata": {
        "id": "Y62Crk_A4uM-"
      }
    },
    {
      "cell_type": "code",
      "source": [],
      "metadata": {
        "id": "wuAOGFIA4uM-"
      },
      "execution_count": null,
      "outputs": []
    },
    {
      "cell_type": "code",
      "source": [
        "Store_avg_Sales=df.groupby(by=['Store']).agg({'Weekly_Sales':'mean'}).reset_index().rename(columns={'Weekly_Sales': 'Avg_Weekly_Sales'})\n",
        "Store_avg_Sales.style.background_gradient(subset='Avg_Weekly_Sales')"
      ],
      "metadata": {
        "execution": {
          "iopub.status.busy": "2024-02-18T14:33:47.100591Z",
          "iopub.execute_input": "2024-02-18T14:33:47.100994Z",
          "iopub.status.idle": "2024-02-18T14:33:47.222697Z",
          "shell.execute_reply.started": "2024-02-18T14:33:47.100964Z",
          "shell.execute_reply": "2024-02-18T14:33:47.221483Z"
        },
        "trusted": true,
        "id": "6KfEqseq4uM-"
      },
      "execution_count": null,
      "outputs": []
    },
    {
      "cell_type": "code",
      "source": [
        "fig=px.bar(Store_avg_Sales,x='Store',y='Avg_Weekly_Sales',color='Avg_Weekly_Sales',title='Avg weekly Sales of all Stores')\n",
        "fig.show(render='iframe')"
      ],
      "metadata": {
        "execution": {
          "iopub.status.busy": "2024-02-18T14:35:37.57861Z",
          "iopub.execute_input": "2024-02-18T14:35:37.579055Z",
          "iopub.status.idle": "2024-02-18T14:35:37.665931Z",
          "shell.execute_reply.started": "2024-02-18T14:35:37.579022Z",
          "shell.execute_reply": "2024-02-18T14:35:37.663942Z"
        },
        "trusted": true,
        "id": "0tOq4CSO4uM-"
      },
      "execution_count": null,
      "outputs": []
    },
    {
      "cell_type": "markdown",
      "source": [
        "#### Observation\n",
        "The plot highlights that stores #2, #4, #13, #14, and #20 are the most profitable. In contrast, stores #5, #33, #36, #38, and #44 are less profitable."
      ],
      "metadata": {
        "id": "ikC8SNLz4uM_"
      }
    },
    {
      "cell_type": "code",
      "source": [],
      "metadata": {
        "id": "275ae4Qb4uM_"
      },
      "execution_count": null,
      "outputs": []
    },
    {
      "cell_type": "code",
      "source": [
        "Holiday_Flag_avg_sales=df.groupby(by=['Holiday_Flag']).agg({'Weekly_Sales':'mean'}).reset_index().rename(columns={'Weekly_Sales': 'Avg_Weekly_Sales'})\n",
        "Holiday_Flag_avg_sales"
      ],
      "metadata": {
        "execution": {
          "iopub.status.busy": "2024-02-18T14:41:24.563323Z",
          "iopub.execute_input": "2024-02-18T14:41:24.563796Z",
          "iopub.status.idle": "2024-02-18T14:41:24.580192Z",
          "shell.execute_reply.started": "2024-02-18T14:41:24.563762Z",
          "shell.execute_reply": "2024-02-18T14:41:24.578823Z"
        },
        "trusted": true,
        "id": "9B6WrC5f4uM_"
      },
      "execution_count": null,
      "outputs": []
    },
    {
      "cell_type": "code",
      "source": [
        "Holiday_Flag_total_sales=df.groupby(by=['Holiday_Flag']).agg({'Weekly_Sales':'sum'}).reset_index().rename(columns={'Weekly_Sales': 'Total_Sales'})\n",
        "Holiday_Flag_total_sales"
      ],
      "metadata": {
        "execution": {
          "iopub.status.busy": "2024-02-18T14:41:25.364485Z",
          "iopub.execute_input": "2024-02-18T14:41:25.364859Z",
          "iopub.status.idle": "2024-02-18T14:41:25.380671Z",
          "shell.execute_reply.started": "2024-02-18T14:41:25.364831Z",
          "shell.execute_reply": "2024-02-18T14:41:25.379167Z"
        },
        "trusted": true,
        "id": "ye6b-aiT4uM_"
      },
      "execution_count": null,
      "outputs": []
    },
    {
      "cell_type": "code",
      "source": [
        "fix,axes=plt.subplots(1,2,figsize=(20,5))\n",
        "sns.barplot(Holiday_Flag_avg_sales,x='Holiday_Flag',y='Avg_Weekly_Sales',ax=axes[0])\n",
        "axes[0].set_title('Avg Weekly Sales by Holiday Flag')\n",
        "\n",
        "sns.barplot(Holiday_Flag_total_sales,x='Holiday_Flag',y='Total_Sales',ax=axes[1])\n",
        "axes[1].set_title('Over all Total Sales by Holiday Flag')\n",
        "\n",
        "plt.show()"
      ],
      "metadata": {
        "execution": {
          "iopub.status.busy": "2024-02-18T14:41:48.115711Z",
          "iopub.execute_input": "2024-02-18T14:41:48.116175Z",
          "iopub.status.idle": "2024-02-18T14:41:48.52498Z",
          "shell.execute_reply.started": "2024-02-18T14:41:48.11614Z",
          "shell.execute_reply": "2024-02-18T14:41:48.523572Z"
        },
        "trusted": true,
        "id": "RXh_8O5o4uM_"
      },
      "execution_count": null,
      "outputs": []
    },
    {
      "cell_type": "markdown",
      "source": [
        "#### Obseravtion\n",
        "From the above plot we can see that when there is a holiday the average weekly sales increase. However, over all total sales on holidays are lower due to the limited number of holidays each year, which naturally reduces the overall total."
      ],
      "metadata": {
        "id": "ykuPED-O4uM_"
      }
    },
    {
      "cell_type": "code",
      "source": [],
      "metadata": {
        "id": "-tTkkaaH4uM_"
      },
      "execution_count": null,
      "outputs": []
    },
    {
      "cell_type": "code",
      "source": [
        "Top_20_Sales_df=df.sort_values(by='Weekly_Sales',ascending=False).head(20)\n",
        "Top_20_Sales_df.head()"
      ],
      "metadata": {
        "execution": {
          "iopub.status.busy": "2024-02-18T14:34:53.562416Z",
          "iopub.execute_input": "2024-02-18T14:34:53.562911Z",
          "iopub.status.idle": "2024-02-18T14:34:53.589476Z",
          "shell.execute_reply.started": "2024-02-18T14:34:53.562875Z",
          "shell.execute_reply": "2024-02-18T14:34:53.587658Z"
        },
        "trusted": true,
        "id": "oD7r07ZR4uM_"
      },
      "execution_count": null,
      "outputs": []
    },
    {
      "cell_type": "code",
      "source": [
        "fig = px.scatter(Top_20_Sales_df, x=\"Date\", y=\"Weekly_Sales\",color='Store',size='Weekly_Sales',title='Top 20 Weekly Sales by Store Over Time')\n",
        "fig.show(render='iframe')"
      ],
      "metadata": {
        "execution": {
          "iopub.status.busy": "2024-02-18T14:35:46.392123Z",
          "iopub.execute_input": "2024-02-18T14:35:46.392568Z",
          "iopub.status.idle": "2024-02-18T14:35:46.482102Z",
          "shell.execute_reply.started": "2024-02-18T14:35:46.392534Z",
          "shell.execute_reply": "2024-02-18T14:35:46.480827Z"
        },
        "trusted": true,
        "id": "xOLZ8kjE4uM_"
      },
      "execution_count": null,
      "outputs": []
    },
    {
      "cell_type": "markdown",
      "source": [
        "#### Observation\n",
        "From the above plot we can see  that the highest sales spikes in stores occur on December 24, which is Christmas Eve. Additionally, there are noticeable spikes around November 25 and 26 ."
      ],
      "metadata": {
        "id": "9OsEhApd4uNA"
      }
    },
    {
      "cell_type": "code",
      "source": [
        "Avg_sales_over_time=df.groupby('Date').agg({'Weekly_Sales':'mean'}).reset_index()"
      ],
      "metadata": {
        "execution": {
          "iopub.status.busy": "2024-02-18T14:39:11.377246Z",
          "iopub.execute_input": "2024-02-18T14:39:11.377766Z",
          "iopub.status.idle": "2024-02-18T14:39:11.390103Z",
          "shell.execute_reply.started": "2024-02-18T14:39:11.377731Z",
          "shell.execute_reply": "2024-02-18T14:39:11.388673Z"
        },
        "trusted": true,
        "id": "IVTjuzqw4uNA"
      },
      "execution_count": null,
      "outputs": []
    },
    {
      "cell_type": "code",
      "source": [
        "fig=px.line(Avg_sales_over_time,x='Date',y='Weekly_Sales',title='Weekly Sales by Store Over Time')\n",
        "fig.show(render='iframe')"
      ],
      "metadata": {
        "execution": {
          "iopub.status.busy": "2024-02-18T14:39:12.753859Z",
          "iopub.execute_input": "2024-02-18T14:39:12.754238Z",
          "iopub.status.idle": "2024-02-18T14:39:12.828947Z",
          "shell.execute_reply.started": "2024-02-18T14:39:12.754209Z",
          "shell.execute_reply": "2024-02-18T14:39:12.827719Z"
        },
        "trusted": true,
        "id": "wshsvqjW4uNA"
      },
      "execution_count": null,
      "outputs": []
    },
    {
      "cell_type": "code",
      "source": [
        "Monthwise_total_sale=df.groupby('month').agg({'Weekly_Sales':'sum'}).reset_index().rename(columns={'Weekly_Sales': 'Total_Monthly_Sales'})\n",
        "Monthwise_total_sale.style.background_gradient(subset='Total_Monthly_Sales')"
      ],
      "metadata": {
        "execution": {
          "iopub.status.busy": "2024-02-18T14:45:36.081049Z",
          "iopub.execute_input": "2024-02-18T14:45:36.081531Z",
          "iopub.status.idle": "2024-02-18T14:45:36.104784Z",
          "shell.execute_reply.started": "2024-02-18T14:45:36.081496Z",
          "shell.execute_reply": "2024-02-18T14:45:36.103323Z"
        },
        "trusted": true,
        "id": "02sprizL4uNA"
      },
      "execution_count": null,
      "outputs": []
    },
    {
      "cell_type": "code",
      "source": [
        "fig=px.bar(Monthwise_total_sale,x='month',y='Total_Monthly_Sales',color='Total_Monthly_Sales',title='Total_Monthly_Sales')\n",
        "fig.show(render='iframe')"
      ],
      "metadata": {
        "execution": {
          "iopub.status.busy": "2024-02-18T14:46:14.676875Z",
          "iopub.execute_input": "2024-02-18T14:46:14.677354Z",
          "iopub.status.idle": "2024-02-18T14:46:14.768111Z",
          "shell.execute_reply.started": "2024-02-18T14:46:14.677318Z",
          "shell.execute_reply": "2024-02-18T14:46:14.766681Z"
        },
        "trusted": true,
        "id": "BvBLxXr84uNA"
      },
      "execution_count": null,
      "outputs": []
    },
    {
      "cell_type": "code",
      "source": [
        "Monthwise_avg_sale=df.groupby('month').agg({'Weekly_Sales':'mean'}).reset_index().rename(columns={'Weekly_Sales': 'Avg_Monthly_Sales'})\n",
        "Monthwise_avg_sale.style.background_gradient(subset='Avg_Monthly_Sales')"
      ],
      "metadata": {
        "execution": {
          "iopub.status.busy": "2024-02-18T14:46:37.088246Z",
          "iopub.execute_input": "2024-02-18T14:46:37.088763Z",
          "iopub.status.idle": "2024-02-18T14:46:37.11304Z",
          "shell.execute_reply.started": "2024-02-18T14:46:37.088726Z",
          "shell.execute_reply": "2024-02-18T14:46:37.111488Z"
        },
        "trusted": true,
        "id": "sq3wF5c84uNA"
      },
      "execution_count": null,
      "outputs": []
    },
    {
      "cell_type": "code",
      "source": [
        "fig=px.bar(Monthwise_avg_sale,x='month',y='Avg_Monthly_Sales',color='Avg_Monthly_Sales',title='Avg. Sales by month')\n",
        "fig.show(render='iframe')"
      ],
      "metadata": {
        "execution": {
          "iopub.status.busy": "2024-02-18T14:46:46.476677Z",
          "iopub.execute_input": "2024-02-18T14:46:46.477059Z",
          "iopub.status.idle": "2024-02-18T14:46:46.557779Z",
          "shell.execute_reply.started": "2024-02-18T14:46:46.477029Z",
          "shell.execute_reply": "2024-02-18T14:46:46.556472Z"
        },
        "trusted": true,
        "id": "m_rL2Kxv4uNB"
      },
      "execution_count": null,
      "outputs": []
    },
    {
      "cell_type": "markdown",
      "source": [
        "#### Observations\n",
        "From the plots above, it is evident that the average sales per month are highest in December. However, when considering the total sales over the two years, the months with the highest total sales are April and August."
      ],
      "metadata": {
        "id": "doEnDVeP4uNB"
      }
    },
    {
      "cell_type": "code",
      "source": [
        "FuelPrice_Over_Time_df=df.groupby('Date').agg({'Fuel_Price':'mean'}).reset_index()\n",
        "FuelPrice_Over_Time_df['Avg. price']=df.Fuel_Price.mean()\n",
        "FuelPrice_Over_Time_df"
      ],
      "metadata": {
        "execution": {
          "iopub.status.busy": "2024-02-18T14:36:09.527425Z",
          "iopub.execute_input": "2024-02-18T14:36:09.528769Z",
          "iopub.status.idle": "2024-02-18T14:36:09.547822Z",
          "shell.execute_reply.started": "2024-02-18T14:36:09.52872Z",
          "shell.execute_reply": "2024-02-18T14:36:09.546161Z"
        },
        "trusted": true,
        "id": "mOLCPm4T4uNB"
      },
      "execution_count": null,
      "outputs": []
    },
    {
      "cell_type": "code",
      "source": [
        "fig = go.Figure()\n",
        "fig.add_trace(go.Scatter(x=FuelPrice_Over_Time_df['Date'], y=FuelPrice_Over_Time_df['Fuel_Price'],\n",
        "                    mode='lines+markers',\n",
        "                         name='Price over time'\n",
        "                    ))\n",
        "fig.add_trace(go.Scatter(x=FuelPrice_Over_Time_df['Date'], y=FuelPrice_Over_Time_df['Avg. price'],\n",
        "                    mode='lines',\n",
        "                    name='Avg. Fuel Price'))\n",
        "fig.update_layout(title='Fuel Price Over Time',\n",
        "                   xaxis_title='Date',\n",
        "                   yaxis_title='Price',\n",
        "                 )\n",
        "\n",
        "fig.show(render='iframe')"
      ],
      "metadata": {
        "execution": {
          "iopub.status.busy": "2024-02-18T14:36:20.994087Z",
          "iopub.execute_input": "2024-02-18T14:36:20.99459Z",
          "iopub.status.idle": "2024-02-18T14:36:21.023185Z",
          "shell.execute_reply.started": "2024-02-18T14:36:20.994555Z",
          "shell.execute_reply": "2024-02-18T14:36:21.022029Z"
        },
        "trusted": true,
        "id": "sg_LQAoE4uNB"
      },
      "execution_count": null,
      "outputs": []
    },
    {
      "cell_type": "markdown",
      "source": [
        "#### Obseravtion\n",
        "From the above plot, we can conclude that fuel prices have been consistently increasing over the years, with the highest prices typically observed in May and April."
      ],
      "metadata": {
        "id": "GFB6SOeO4uNE"
      }
    },
    {
      "cell_type": "code",
      "source": [
        "CPI_Over_Time_df=df.groupby('Date').agg({'CPI':'mean'}).reset_index()\n",
        "CPI_Over_Time_df['Avg. CPI']=df.CPI.mean()\n",
        "CPI_Over_Time_df"
      ],
      "metadata": {
        "execution": {
          "iopub.status.busy": "2024-02-18T14:36:22.497659Z",
          "iopub.execute_input": "2024-02-18T14:36:22.499096Z",
          "iopub.status.idle": "2024-02-18T14:36:22.526228Z",
          "shell.execute_reply.started": "2024-02-18T14:36:22.499016Z",
          "shell.execute_reply": "2024-02-18T14:36:22.524111Z"
        },
        "trusted": true,
        "id": "zHOuliWu4uNF"
      },
      "execution_count": null,
      "outputs": []
    },
    {
      "cell_type": "code",
      "source": [
        "fig = go.Figure()\n",
        "fig.add_trace(go.Scatter(x=CPI_Over_Time_df['Date'], y=CPI_Over_Time_df['CPI'],\n",
        "                    mode='lines',\n",
        "                         name='CPI over time'\n",
        "                    ))\n",
        "fig.add_trace(go.Scatter(x=CPI_Over_Time_df['Date'], y=CPI_Over_Time_df['Avg. CPI'],\n",
        "                    mode='lines',\n",
        "                    name='Avg CPI'))\n",
        "fig.update_layout(title='CPI Over Time',\n",
        "                   xaxis_title='Date',\n",
        "                   yaxis_title='CPI',\n",
        "                 )\n",
        "\n",
        "fig.show(render='iframe')"
      ],
      "metadata": {
        "execution": {
          "iopub.status.busy": "2024-02-18T14:36:28.604847Z",
          "iopub.execute_input": "2024-02-18T14:36:28.606033Z",
          "iopub.status.idle": "2024-02-18T14:36:28.633094Z",
          "shell.execute_reply.started": "2024-02-18T14:36:28.605995Z",
          "shell.execute_reply": "2024-02-18T14:36:28.631844Z"
        },
        "trusted": true,
        "id": "LB3jcIBn4uNF"
      },
      "execution_count": null,
      "outputs": []
    },
    {
      "cell_type": "markdown",
      "source": [
        "#### Observation\n",
        "Here we can see that consumer price index CPI is also increasing over the years"
      ],
      "metadata": {
        "id": "LQojkhVX4uNF"
      }
    },
    {
      "cell_type": "code",
      "source": [
        "df.groupby('Date').agg({'Unemployment':'mean'}).reset_index()"
      ],
      "metadata": {
        "execution": {
          "iopub.status.busy": "2024-02-18T14:36:30.203985Z",
          "iopub.execute_input": "2024-02-18T14:36:30.205216Z",
          "iopub.status.idle": "2024-02-18T14:36:30.222573Z",
          "shell.execute_reply.started": "2024-02-18T14:36:30.205178Z",
          "shell.execute_reply": "2024-02-18T14:36:30.220798Z"
        },
        "trusted": true,
        "id": "6sTE9L0r4uNF"
      },
      "execution_count": null,
      "outputs": []
    },
    {
      "cell_type": "code",
      "source": [
        "fig=px.line(df.groupby('Date').agg({'Unemployment':'mean'}).reset_index(),x='Date',y='Unemployment',title='Unemployment over the years')\n",
        "fig.show(render='iframe')"
      ],
      "metadata": {
        "execution": {
          "iopub.status.busy": "2024-02-18T14:36:43.23897Z",
          "iopub.execute_input": "2024-02-18T14:36:43.239446Z",
          "iopub.status.idle": "2024-02-18T14:36:43.323845Z",
          "shell.execute_reply.started": "2024-02-18T14:36:43.239383Z",
          "shell.execute_reply": "2024-02-18T14:36:43.32224Z"
        },
        "trusted": true,
        "id": "xcrsbEkv4uNF"
      },
      "execution_count": null,
      "outputs": []
    },
    {
      "cell_type": "code",
      "source": [
        "corr = df.corr()\n",
        "mask = np.triu(np.ones_like(corr, dtype=bool))\n",
        "sns.heatmap(corr, mask=mask, cmap='viridis', annot=True, fmt='.2f')"
      ],
      "metadata": {
        "execution": {
          "iopub.status.busy": "2024-02-18T14:36:31.675533Z",
          "iopub.execute_input": "2024-02-18T14:36:31.675933Z",
          "iopub.status.idle": "2024-02-18T14:36:32.271942Z",
          "shell.execute_reply.started": "2024-02-18T14:36:31.675903Z",
          "shell.execute_reply": "2024-02-18T14:36:32.26825Z"
        },
        "trusted": true,
        "id": "2Lgq0MJJ4uNF"
      },
      "execution_count": null,
      "outputs": []
    },
    {
      "cell_type": "code",
      "source": [],
      "metadata": {
        "id": "ZCP7mmdY4uNG"
      },
      "execution_count": null,
      "outputs": []
    },
    {
      "cell_type": "markdown",
      "source": [
        "#### ***Please Give Feedback***\n",
        "# ***Thank You 😊***"
      ],
      "metadata": {
        "id": "3EcSNcuI4uNG"
      }
    }
  ]
}